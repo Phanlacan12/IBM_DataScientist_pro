{
 "cells": [
  {
   "cell_type": "markdown",
   "id": "303dfc25-bc57-4d17-8611-32accaf1e85b",
   "metadata": {},
   "source": [
    "# My JupyterLite Final Project"
   ]
  },
  {
   "cell_type": "markdown",
   "id": "7ef389a6-016e-4583-8613-16d64bac65fb",
   "metadata": {},
   "source": [
    "## Introduction\n",
    "This notebook demonstrates key markdown and code features learned in the course.\""
   ]
  },
  {
   "cell_type": "markdown",
   "id": "bcdaef33-9626-426d-848f-38a66a1376f7",
   "metadata": {},
   "source": [
    "## Data Science Languages\n",
    "- Python\n",
    "- R\n",
    "- SQL\n",
    "- Java\n",
    "- Scala"
   ]
  },
  {
   "cell_type": "markdown",
   "id": "9990db55-f8ab-4b58-a083-1b8dfc893b8c",
   "metadata": {},
   "source": [
    "## Data Science Libraries\n",
    "- pandas\n",
    "- numpy\n",
    "- matplotlib\n",
    "- scikit-learn\n",
    "- TensorFlow"
   ]
  },
  {
   "cell_type": "markdown",
   "id": "302d9104-74a6-4888-8c20-cedbfcd2d68d",
   "metadata": {},
   "source": [
    "## Data Science Tools\n",
    "| Tool            | Purpose                         |\n",
    "|-----------------|---------------------------------|\n",
    "| Jupyter Notebook| Interactive code + visualizations|\n",
    "| Git/GitHub      | Version control and collaboration|\n",
    "| Docker          | Containerization                |\n",
    "| Apache Airflow  | Workflow orchestration          |\n",
    "| TensorFlow      | Deep learning framework         |"
   ]
  },
  {
   "cell_type": "markdown",
   "id": "2c197a1f-9ff0-4525-9d69-0dfdf0650f78",
   "metadata": {},
   "source": [
    "## Arithmetic Expressions Examples\n",
    "- `2 + 3` =&gt; 5 \n",
    "- `4 * 7` =&gt; 28"
   ]
  },
  {
   "cell_type": "code",
   "execution_count": 2,
   "id": "a16bbd74-ef5a-4f6a-ae92-9a7abe63d09d",
   "metadata": {},
   "outputs": [
    {
     "name": "stdout",
     "output_type": "stream",
     "text": [
      "6 * 9 = 54\n",
      "54 + 2 = 56\n"
     ]
    }
   ],
   "source": [
    "# Exercise 8: multiply and add\n",
    "a = 6\n",
    "b = 9\n",
    "c = 2\n",
    "prod = a * b\n",
    "sum_ = prod + c\n",
    "print(f\"{a} * {b} = {prod}\")\n",
    "print(f\"{prod} + {c} = {sum_}\")"
   ]
  },
  {
   "cell_type": "code",
   "execution_count": 3,
   "id": "172c6c7d-d8b2-47a8-842a-a9506c1ab2fc",
   "metadata": {},
   "outputs": [
    {
     "name": "stdout",
     "output_type": "stream",
     "text": [
      "135 minutes = 2.25 hours\n"
     ]
    }
   ],
   "source": [
    "# Exercise 9: convert minutes to hours\n",
    "minutes = 135\n",
    "hours = minutes / 60\n",
    "print(f\"{minutes} minutes = {hours:.2f} hours\")"
   ]
  },
  {
   "cell_type": "markdown",
   "id": "c2e09eb3-60bf-4c60-b7ea-eb60d977f98a",
   "metadata": {},
   "source": [
    "## Objectives\n",
    "1. Practice Markdown formatting\n",
    "2. Practice writing code cells\n",
    "3. Learn to generate and share notebooks"
   ]
  },
  {
   "cell_type": "markdown",
   "id": "fa60028e-66df-4f4e-b6e2-b91b90dd20a7",
   "metadata": {},
   "source": [
    "## Author\n",
    "Phan Lac An"
   ]
  },
  {
   "cell_type": "code",
   "execution_count": null,
   "id": "747c02c7-9e41-4c59-a15f-0bcea3ae894a",
   "metadata": {},
   "outputs": [],
   "source": []
  }
 ],
 "metadata": {
  "kernelspec": {
   "display_name": "Python (feathr39)",
   "language": "python",
   "name": "feathr39"
  },
  "language_info": {
   "codemirror_mode": {
    "name": "ipython",
    "version": 3
   },
   "file_extension": ".py",
   "mimetype": "text/x-python",
   "name": "python",
   "nbconvert_exporter": "python",
   "pygments_lexer": "ipython3",
   "version": "3.9.21"
  }
 },
 "nbformat": 4,
 "nbformat_minor": 5
}
